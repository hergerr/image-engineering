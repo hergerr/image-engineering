{
 "cells": [
  {
   "cell_type": "code",
   "execution_count": 9,
   "metadata": {},
   "outputs": [],
   "source": [
    "import numpy as np\n",
    "import lab4_utils\n",
    "import cv2 as cv\n",
    "\n",
    "from matplotlib import pyplot as plt\n",
    "from PIL import Image"
   ]
  },
  {
   "cell_type": "code",
   "execution_count": 12,
   "metadata": {},
   "outputs": [],
   "source": [
    "# utility functions\n",
    "\n",
    "def show_channels_in_grey_scale(img):\n",
    "    image_copy = img.copy()\n",
    "    fig, ax = plt.subplots(1, 3)\n",
    "    ax[0].imshow(image_copy[:, :, 0], cmap=\"Greys\")  # or Reds\n",
    "    ax[1].imshow(image_copy[:, :, 1], cmap=\"Greys\")  # or Greens\n",
    "    ax[2].imshow(image_copy[:, :, 2], cmap=\"Greys\")  # or Blues"
   ]
  },
  {
   "cell_type": "code",
   "execution_count": 5,
   "metadata": {},
   "outputs": [
    {
     "data": {
      "image/png": "[encoded data removed]",
      "text/plain": [
       "<Figure size 432x288 with 1 Axes>"
      ]
     },
     "metadata": {
      "needs_background": "light"
     },
     "output_type": "display_data"
    }
   ],
   "source": [
    "# 0 - image data\n",
    "data = lab4_utils.create_rainbow().astype(np.uint8)\n",
    "plt.imshow(data)\n",
    "plt.show()"
   ]
  },
  {
   "cell_type": "code",
   "execution_count": 10,
   "metadata": {},
   "outputs": [
    {
     "data": {
      "image/png": "[encoded data removed]",
      "text/plain": [
       "<Figure size 432x288 with 1 Axes>"
      ]
     },
     "metadata": {
      "needs_background": "light"
     },
     "output_type": "display_data"
    }
   ],
   "source": [
    "# 1. Convert RGB to YCbCr\n",
    "ycbcr_matrix = np.array(\n",
    "    [[.229, .587, .114], [-.168, -.331, .5], [.5, -.418, -.082]])\n",
    "ycbcr_image = np.clip(np.dot(data, ycbcr_matrix), a_min=0, a_max=255).astype(np.uint8)\n",
    "plt.imshow(ycbcr_image)\n",
    "plt.show()"
   ]
  },
  {
   "cell_type": "code",
   "execution_count": 13,
   "metadata": {},
   "outputs": [
    {
     "data": {
      "image/png": "[encoded data removed]",
      "text/plain": [
       "<Figure size 432x288 with 3 Axes>"
      ]
     },
     "metadata": {
      "needs_background": "light"
     },
     "output_type": "display_data"
    }
   ],
   "source": [
    "# 2. Downsampling on Cb Cr\n",
    "# a. show channels Y, CB, CR\n",
    "show_channels_in_grey_scale(ycbcr_image)"
   ]
  },
  {
   "cell_type": "code",
   "execution_count": null,
   "metadata": {},
   "outputs": [],
   "source": [
    "cb_channel = ycbcr_image[:, :, 1]\n",
    "cr_channel = ycbcr_image[:, :, 2]"
   ]
  }
 ],
 "metadata": {
  "kernelspec": {
   "display_name": "Python 3",
   "language": "python",
   "name": "python3"
  },
  "language_info": {
   "codemirror_mode": {
    "name": "ipython",
    "version": 3
   },
   "file_extension": ".py",
   "mimetype": "text/x-python",
   "name": "python",
   "nbconvert_exporter": "python",
   "pygments_lexer": "ipython3",
   "version": "3.7.5"
  }
 },
 "nbformat": 4,
 "nbformat_minor": 2
}
